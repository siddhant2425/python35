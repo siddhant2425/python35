{
 "cells": [
  {
   "cell_type": "code",
   "execution_count": 4,
   "id": "57f97a19",
   "metadata": {},
   "outputs": [
    {
     "name": "stdout",
     "output_type": "stream",
     "text": [
      "enter the file name->wlkf.tets\n",
      "invalid file name wlkf.tets\n"
     ]
    }
   ],
   "source": [
    "filename=input(\"enter the file name->\")\n",
    "if filename.split('.')[1] in['pdf','txt','log']:\n",
    "    print(f\"processing {filename}\")\n",
    "else:\n",
    "    print(f\"invalid file name {filename}\")"
   ]
  },
  {
   "cell_type": "code",
   "execution_count": null,
   "id": "31705aea",
   "metadata": {},
   "outputs": [],
   "source": []
  },
  {
   "cell_type": "code",
   "execution_count": 5,
   "id": "5e4a8a7e",
   "metadata": {},
   "outputs": [
    {
     "name": "stdout",
     "output_type": "stream",
     "text": [
      "Enter the per:-77\n",
      "you are passed with A+ grade\n"
     ]
    }
   ],
   "source": [
    "per=float(input(\"Enter the per:-\"))\n",
    "if per<40:\n",
    "    print(\"please try again\")\n",
    "elif per>40 and per<=55:\n",
    "    print(\"You are passed with c grade\")\n",
    "elif per>55 and per<=65:\n",
    "    print(\"you are passed with B grade\")\n",
    "elif per>65 and per<=75:\n",
    "    print(\"you are passed with A grade\")\n",
    "elif per>75 and per<=100:\n",
    "    print(\"you are passed with A+ grade\")\n",
    "else:\n",
    "    print(\"please enter valid per\")\n",
    "    print(\"Thants for using our servive\")"
   ]
  },
  {
   "cell_type": "code",
   "execution_count": null,
   "id": "5aaf6312",
   "metadata": {},
   "outputs": [],
   "source": []
  },
  {
   "cell_type": "code",
   "execution_count": 30,
   "id": "280dab9a",
   "metadata": {},
   "outputs": [
    {
     "name": "stdout",
     "output_type": "stream",
     "text": [
      "('paython', 'java', 'hadoop', 'ml')\n",
      "('paython', 'java', 'hadoop', 'ml')\n",
      "('paython', 'java', 'hadoop', 'ml')\n",
      "('paython', 'java', 'hadoop', 'ml')\n"
     ]
    }
   ],
   "source": [
    "p=('paython','java','hadoop','ml')\n",
    "for element in p:\n",
    "    print(p,)\n",
    "\n",
    "\n",
    "\n",
    "\n",
    "    "
   ]
  },
  {
   "cell_type": "code",
   "execution_count": 39,
   "id": "523d85d8",
   "metadata": {},
   "outputs": [
    {
     "ename": "IndentationError",
     "evalue": "expected an indented block (3802854328.py, line 2)",
     "output_type": "error",
     "traceback": [
      "\u001b[1;36m  Input \u001b[1;32mIn [39]\u001b[1;36m\u001b[0m\n\u001b[1;33m    print(i)\u001b[0m\n\u001b[1;37m    ^\u001b[0m\n\u001b[1;31mIndentationError\u001b[0m\u001b[1;31m:\u001b[0m expected an indented block\n"
     ]
    }
   ],
   "source": [
    "for\n",
    "print(i)"
   ]
  },
  {
   "cell_type": "code",
   "execution_count": 41,
   "id": "a2a04a8d",
   "metadata": {},
   "outputs": [
    {
     "name": "stdout",
     "output_type": "stream",
     "text": [
      "1\n",
      "2\n",
      "3\n",
      "4\n",
      "5\n",
      "6\n",
      "7\n",
      "8\n",
      "9\n",
      "10\n"
     ]
    }
   ],
   "source": [
    "for i in range(1,11):\n",
    "    print(i)"
   ]
  },
  {
   "cell_type": "code",
   "execution_count": 42,
   "id": "f7b39e0f",
   "metadata": {},
   "outputs": [
    {
     "name": "stdout",
     "output_type": "stream",
     "text": [
      "2\n",
      "5\n",
      "8\n",
      "11\n",
      "14\n",
      "17\n",
      "20\n",
      "23\n",
      "26\n",
      "29\n",
      "32\n",
      "35\n",
      "38\n",
      "41\n",
      "44\n",
      "47\n",
      "50\n",
      "53\n",
      "56\n",
      "59\n",
      "62\n",
      "65\n",
      "68\n",
      "71\n",
      "74\n",
      "77\n"
     ]
    }
   ],
   "source": [
    "for i in range(2,80,3):\n",
    "    print(i)"
   ]
  },
  {
   "cell_type": "code",
   "execution_count": null,
   "id": "0810c199",
   "metadata": {},
   "outputs": [],
   "source": [
    "for "
   ]
  }
 ],
 "metadata": {
  "kernelspec": {
   "display_name": "Python 3 (ipykernel)",
   "language": "python",
   "name": "python3"
  },
  "language_info": {
   "codemirror_mode": {
    "name": "ipython",
    "version": 3
   },
   "file_extension": ".py",
   "mimetype": "text/x-python",
   "name": "python",
   "nbconvert_exporter": "python",
   "pygments_lexer": "ipython3",
   "version": "3.9.12"
  }
 },
 "nbformat": 4,
 "nbformat_minor": 5
}
